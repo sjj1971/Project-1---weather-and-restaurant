{
 "cells": [
  {
   "cell_type": "code",
   "execution_count": 252,
   "metadata": {},
   "outputs": [],
   "source": [
    "import pandas as pd\n",
    "import numpy as np\n",
    "import matplotlib.pyplot as plt\n",
    "import scipy.stats as stats\n",
    "from scipy.stats import linregress\n",
    "#[\"japanese\", \"thai\", \"american\"]"
   ]
  },
  {
   "cell_type": "code",
   "execution_count": 253,
   "metadata": {},
   "outputs": [],
   "source": [
    "cuisines = pd.read_csv(\"FinalData/cuisines.csv\").drop('Unnamed: 0', axis = 1)\n",
    "cuisines_by_city = pd.read_csv(\"FinalData/cuisines_by_city.csv\")\n",
    "#city_weather_df = pd.read_csv(\"WeatherData/WeatherData.csv\")\n"
   ]
  },
  {
   "cell_type": "code",
   "execution_count": 254,
   "metadata": {},
   "outputs": [
    {
     "data": {
      "text/html": [
       "<div>\n",
       "<style scoped>\n",
       "    .dataframe tbody tr th:only-of-type {\n",
       "        vertical-align: middle;\n",
       "    }\n",
       "\n",
       "    .dataframe tbody tr th {\n",
       "        vertical-align: top;\n",
       "    }\n",
       "\n",
       "    .dataframe thead th {\n",
       "        text-align: right;\n",
       "    }\n",
       "</style>\n",
       "<table border=\"1\" class=\"dataframe\">\n",
       "  <thead>\n",
       "    <tr style=\"text-align: right;\">\n",
       "      <th></th>\n",
       "      <th>City</th>\n",
       "      <th>Business ID</th>\n",
       "      <th>Total Check-Ins</th>\n",
       "      <th>2019-01</th>\n",
       "      <th>2019-02</th>\n",
       "      <th>2019-03</th>\n",
       "      <th>2019-04</th>\n",
       "      <th>2019-05</th>\n",
       "      <th>2019-06</th>\n",
       "      <th>2019-07</th>\n",
       "      <th>2019-08</th>\n",
       "      <th>2019-09</th>\n",
       "      <th>2019-10</th>\n",
       "      <th>2019-11</th>\n",
       "      <th>2019-12</th>\n",
       "      <th>Name</th>\n",
       "      <th>State</th>\n",
       "      <th>Category</th>\n",
       "      <th>Rating</th>\n",
       "      <th>Review Count</th>\n",
       "    </tr>\n",
       "  </thead>\n",
       "  <tbody>\n",
       "    <tr>\n",
       "      <td>0</td>\n",
       "      <td>Las Vegas</td>\n",
       "      <td>hihud--QRriCYZw1zZvW4g</td>\n",
       "      <td>8917</td>\n",
       "      <td>886</td>\n",
       "      <td>742</td>\n",
       "      <td>840</td>\n",
       "      <td>850</td>\n",
       "      <td>866</td>\n",
       "      <td>843</td>\n",
       "      <td>951</td>\n",
       "      <td>848</td>\n",
       "      <td>623</td>\n",
       "      <td>574</td>\n",
       "      <td>608</td>\n",
       "      <td>286</td>\n",
       "      <td>Gangnam Asian BBQ Dining</td>\n",
       "      <td>NV</td>\n",
       "      <td>japanese korean bbq</td>\n",
       "      <td>4.5</td>\n",
       "      <td>3761.0</td>\n",
       "    </tr>\n",
       "    <tr>\n",
       "      <td>1</td>\n",
       "      <td>Las Vegas</td>\n",
       "      <td>FNe5PPA9pyj8FjcDefCBpg</td>\n",
       "      <td>3947</td>\n",
       "      <td>273</td>\n",
       "      <td>239</td>\n",
       "      <td>308</td>\n",
       "      <td>314</td>\n",
       "      <td>495</td>\n",
       "      <td>422</td>\n",
       "      <td>413</td>\n",
       "      <td>404</td>\n",
       "      <td>359</td>\n",
       "      <td>297</td>\n",
       "      <td>269</td>\n",
       "      <td>154</td>\n",
       "      <td>Weera Thai Restaurant - Sahara</td>\n",
       "      <td>NV</td>\n",
       "      <td>thai bars</td>\n",
       "      <td>4.5</td>\n",
       "      <td>1364.0</td>\n",
       "    </tr>\n",
       "    <tr>\n",
       "      <td>2</td>\n",
       "      <td>Las Vegas</td>\n",
       "      <td>QXV3L_QFGj8r6nWX2kS2hA</td>\n",
       "      <td>9893</td>\n",
       "      <td>728</td>\n",
       "      <td>755</td>\n",
       "      <td>890</td>\n",
       "      <td>836</td>\n",
       "      <td>1113</td>\n",
       "      <td>905</td>\n",
       "      <td>979</td>\n",
       "      <td>990</td>\n",
       "      <td>838</td>\n",
       "      <td>691</td>\n",
       "      <td>861</td>\n",
       "      <td>307</td>\n",
       "      <td>Nacho Daddy</td>\n",
       "      <td>NV</td>\n",
       "      <td>newamerican mexican breakfast_brunch</td>\n",
       "      <td>4.5</td>\n",
       "      <td>4649.0</td>\n",
       "    </tr>\n",
       "    <tr>\n",
       "      <td>3</td>\n",
       "      <td>Charlotte</td>\n",
       "      <td>6hZgMg9rnDCC0RBVRlkZwQ</td>\n",
       "      <td>226</td>\n",
       "      <td>18</td>\n",
       "      <td>13</td>\n",
       "      <td>17</td>\n",
       "      <td>12</td>\n",
       "      <td>10</td>\n",
       "      <td>20</td>\n",
       "      <td>20</td>\n",
       "      <td>24</td>\n",
       "      <td>24</td>\n",
       "      <td>35</td>\n",
       "      <td>26</td>\n",
       "      <td>7</td>\n",
       "      <td>Mr Tokyo Japanese Restaurant</td>\n",
       "      <td>NC</td>\n",
       "      <td>japanese sushi salad</td>\n",
       "      <td>4.0</td>\n",
       "      <td>505.0</td>\n",
       "    </tr>\n",
       "    <tr>\n",
       "      <td>4</td>\n",
       "      <td>Charlotte</td>\n",
       "      <td>HhcBx0LSDkxRBKMkvkwSoA</td>\n",
       "      <td>225</td>\n",
       "      <td>17</td>\n",
       "      <td>26</td>\n",
       "      <td>27</td>\n",
       "      <td>21</td>\n",
       "      <td>35</td>\n",
       "      <td>23</td>\n",
       "      <td>21</td>\n",
       "      <td>19</td>\n",
       "      <td>12</td>\n",
       "      <td>4</td>\n",
       "      <td>16</td>\n",
       "      <td>4</td>\n",
       "      <td>Deejai  Noodle Bar</td>\n",
       "      <td>NC</td>\n",
       "      <td>thai noodles cocktailbars</td>\n",
       "      <td>4.0</td>\n",
       "      <td>243.0</td>\n",
       "    </tr>\n",
       "    <tr>\n",
       "      <td>5</td>\n",
       "      <td>Charlotte</td>\n",
       "      <td>WbJ1LRQdOuYYlRLyTkuuxw</td>\n",
       "      <td>650</td>\n",
       "      <td>54</td>\n",
       "      <td>42</td>\n",
       "      <td>61</td>\n",
       "      <td>30</td>\n",
       "      <td>44</td>\n",
       "      <td>53</td>\n",
       "      <td>112</td>\n",
       "      <td>94</td>\n",
       "      <td>46</td>\n",
       "      <td>38</td>\n",
       "      <td>62</td>\n",
       "      <td>14</td>\n",
       "      <td>Tupelo Honey</td>\n",
       "      <td>NC</td>\n",
       "      <td>southern newamerican breakfast_brunch</td>\n",
       "      <td>4.0</td>\n",
       "      <td>2093.0</td>\n",
       "    </tr>\n",
       "    <tr>\n",
       "      <td>6</td>\n",
       "      <td>Toronto</td>\n",
       "      <td>ZyOuwa3Eau6dbUiEPwsUoA</td>\n",
       "      <td>1432</td>\n",
       "      <td>16</td>\n",
       "      <td>15</td>\n",
       "      <td>12</td>\n",
       "      <td>10</td>\n",
       "      <td>30</td>\n",
       "      <td>116</td>\n",
       "      <td>321</td>\n",
       "      <td>267</td>\n",
       "      <td>189</td>\n",
       "      <td>185</td>\n",
       "      <td>208</td>\n",
       "      <td>63</td>\n",
       "      <td>Katsuya</td>\n",
       "      <td>ON</td>\n",
       "      <td>japanese</td>\n",
       "      <td>4.0</td>\n",
       "      <td>139.0</td>\n",
       "    </tr>\n",
       "    <tr>\n",
       "      <td>7</td>\n",
       "      <td>Toronto</td>\n",
       "      <td>ATaDg2kdS9GTln1-tS6iIw</td>\n",
       "      <td>1408</td>\n",
       "      <td>126</td>\n",
       "      <td>98</td>\n",
       "      <td>160</td>\n",
       "      <td>129</td>\n",
       "      <td>152</td>\n",
       "      <td>157</td>\n",
       "      <td>146</td>\n",
       "      <td>154</td>\n",
       "      <td>117</td>\n",
       "      <td>80</td>\n",
       "      <td>75</td>\n",
       "      <td>14</td>\n",
       "      <td>EAT BKK Thai Kitchen &amp; Bar</td>\n",
       "      <td>ON</td>\n",
       "      <td>thai</td>\n",
       "      <td>4.5</td>\n",
       "      <td>209.0</td>\n",
       "    </tr>\n",
       "  </tbody>\n",
       "</table>\n",
       "</div>"
      ],
      "text/plain": [
       "        City             Business ID  Total Check-Ins  2019-01  2019-02  \\\n",
       "0  Las Vegas  hihud--QRriCYZw1zZvW4g             8917      886      742   \n",
       "1  Las Vegas  FNe5PPA9pyj8FjcDefCBpg             3947      273      239   \n",
       "2  Las Vegas  QXV3L_QFGj8r6nWX2kS2hA             9893      728      755   \n",
       "3  Charlotte  6hZgMg9rnDCC0RBVRlkZwQ              226       18       13   \n",
       "4  Charlotte  HhcBx0LSDkxRBKMkvkwSoA              225       17       26   \n",
       "5  Charlotte  WbJ1LRQdOuYYlRLyTkuuxw              650       54       42   \n",
       "6    Toronto  ZyOuwa3Eau6dbUiEPwsUoA             1432       16       15   \n",
       "7    Toronto  ATaDg2kdS9GTln1-tS6iIw             1408      126       98   \n",
       "\n",
       "   2019-03  2019-04  2019-05  2019-06  2019-07  2019-08  2019-09  2019-10  \\\n",
       "0      840      850      866      843      951      848      623      574   \n",
       "1      308      314      495      422      413      404      359      297   \n",
       "2      890      836     1113      905      979      990      838      691   \n",
       "3       17       12       10       20       20       24       24       35   \n",
       "4       27       21       35       23       21       19       12        4   \n",
       "5       61       30       44       53      112       94       46       38   \n",
       "6       12       10       30      116      321      267      189      185   \n",
       "7      160      129      152      157      146      154      117       80   \n",
       "\n",
       "   2019-11  2019-12                            Name State  \\\n",
       "0      608      286        Gangnam Asian BBQ Dining    NV   \n",
       "1      269      154  Weera Thai Restaurant - Sahara    NV   \n",
       "2      861      307                     Nacho Daddy    NV   \n",
       "3       26        7    Mr Tokyo Japanese Restaurant    NC   \n",
       "4       16        4              Deejai  Noodle Bar    NC   \n",
       "5       62       14                    Tupelo Honey    NC   \n",
       "6      208       63                         Katsuya    ON   \n",
       "7       75       14      EAT BKK Thai Kitchen & Bar    ON   \n",
       "\n",
       "                                 Category  Rating  Review Count  \n",
       "0                     japanese korean bbq     4.5        3761.0  \n",
       "1                               thai bars     4.5        1364.0  \n",
       "2    newamerican mexican breakfast_brunch     4.5        4649.0  \n",
       "3                    japanese sushi salad     4.0         505.0  \n",
       "4               thai noodles cocktailbars     4.0         243.0  \n",
       "5   southern newamerican breakfast_brunch     4.0        2093.0  \n",
       "6                                japanese     4.0         139.0  \n",
       "7                                    thai     4.5         209.0  "
      ]
     },
     "execution_count": 254,
     "metadata": {},
     "output_type": "execute_result"
    }
   ],
   "source": [
    "cuisines_by_city"
   ]
  },
  {
   "cell_type": "code",
   "execution_count": 255,
   "metadata": {},
   "outputs": [],
   "source": [
    "lv_cuisines = cuisines_by_city.loc[cuisines_by_city['City'] == 'Las Vegas']"
   ]
  },
  {
   "cell_type": "markdown",
   "metadata": {},
   "source": [
    "# Created a new DataFrame for each city"
   ]
  },
  {
   "cell_type": "code",
   "execution_count": 256,
   "metadata": {
    "scrolled": true
   },
   "outputs": [],
   "source": [
    "#create a new data frame for las vegas checkin per category\n",
    "LV_df = pd.DataFrame({'months': [\"jan\",\"feb\",\"mar\",\"april\",\"may\",\"june\",\"july\",\"aug\",\"sep\",\"oct\",\"nov\",\"dec\"],\n",
    "                      'Japanese_Check-Ins': [886,742,840,850,866,843,951,848,623,574,608,286],\n",
    "                   'Thai_Check-Ins': [273,239,308,314,495,422,413,404,359,297,269,154],\n",
    "                   'American_Check-Ins': [728,755,890,836,1113,905,979,990,838,691,861,307]})\n"
   ]
  },
  {
   "cell_type": "code",
   "execution_count": 257,
   "metadata": {},
   "outputs": [],
   "source": [
    "#create a new data frame for Charlotte checkin per category\n",
    "Charlotte_df = pd.DataFrame({'months': [\"jan\",\"feb\",\"mar\",\"april\",\"may\",\"june\",\"july\",\"aug\",\"sep\",\"oct\",\"nov\",\"dec\"],\n",
    "                      'Japanese_Check-Ins': [18,13,17,12,10,20,20,24,24,35,26,7],\n",
    "                   'Thai_Check-Ins': [17,26,27,21,35,23,21,19,12,4,16,4],\n",
    "                   'American_Check-Ins': [54,42,61,30,44,53,112,94,46,38,62,14]\n",
    "                     })\n"
   ]
  },
  {
   "cell_type": "code",
   "execution_count": 258,
   "metadata": {},
   "outputs": [],
   "source": [
    "#create a new data frame for Charlotte checkin per category\n",
    "Toronto_df = pd.DataFrame({'months': [\"jan\",\"feb\",\"mar\",\"april\",\"may\",\"june\",\"july\",\"aug\",\"sep\",\"oct\",\"nov\",\"dec\"],\n",
    "                      'Japanese_Check-Ins': [16,15,12,10,30,116,321,267,189,185,208,63],\n",
    "                   'Thai_Check-Ins': [126,98,160,129,152,157,146,154,117,80,75,14],\n",
    "                     })\n"
   ]
  },
  {
   "cell_type": "markdown",
   "metadata": {},
   "source": [
    "# plot bar graps to visualize all monthly category check-ins for each city"
   ]
  },
  {
   "cell_type": "code",
   "execution_count": 259,
   "metadata": {},
   "outputs": [
    {
     "data": {
      "image/png": "[encoded data removed]",
      "text/plain": [
       "<Figure size 720x504 with 1 Axes>"
      ]
     },
     "metadata": {
      "needs_background": "light"
     },
     "output_type": "display_data"
    }
   ],
   "source": [
    "#plot a bar graph to visualize all the categories available with the number of check- ins\n",
    "\n",
    "LV_df.loc[:,['Japanese_Check-Ins','Thai_Check-Ins', 'American_Check-Ins']].plot.bar(stacked=True, figsize=(10,7))\n",
    "plt.xlabel('Months')\n",
    "plt.ylabel('Total Check-Ins')\n",
    "plt.title('Las Vegas Check-Ins vs Cuisines Category')\n",
    "plt.show()"
   ]
  },
  {
   "cell_type": "code",
   "execution_count": 260,
   "metadata": {},
   "outputs": [
    {
     "data": {
      "image/png": "[encoded data removed]",
      "text/plain": [
       "<Figure size 720x504 with 1 Axes>"
      ]
     },
     "metadata": {
      "needs_background": "light"
     },
     "output_type": "display_data"
    }
   ],
   "source": [
    "#plot a bar graph to visualize all the categories available with the number of check- ins\n",
    "\n",
    "Charlotte_df.loc[:,['Japanese_Check-Ins','Thai_Check-Ins', 'American_Check-Ins']].plot.bar(stacked=True, figsize=(10,7))\n",
    "plt.xlabel('Months')\n",
    "plt.ylabel('Total Check-Ins')\n",
    "plt.title('Charlotte Check-Ins vs Cuisines Category')\n",
    "plt.show()"
   ]
  },
  {
   "cell_type": "code",
   "execution_count": 261,
   "metadata": {},
   "outputs": [
    {
     "data": {
      "image/png": "[encoded data removed]",
      "text/plain": [
       "<Figure size 720x504 with 1 Axes>"
      ]
     },
     "metadata": {
      "needs_background": "light"
     },
     "output_type": "display_data"
    }
   ],
   "source": [
    "#plot a bar graph to visualize all the categories available with the number of check- ins\n",
    "\n",
    "Toronto_df.loc[:,['Japanese_Check-Ins','Thai_Check-Ins']].plot.bar(stacked=True, figsize=(10,7))\n",
    "plt.xlabel('Months')\n",
    "plt.ylabel('Total Check-Ins')\n",
    "plt.title('Toronto Check-Ins vs Cuisines Category')\n",
    "\n",
    "plt.show()"
   ]
  },
  {
   "cell_type": "markdown",
   "metadata": {},
   "source": [
    "# Make analysis in relation to the average weather temperature(f)"
   ]
  },
  {
   "cell_type": "markdown",
   "metadata": {},
   "source": [
    "# Average Temperature VS Las Vegas cuisines check-in"
   ]
  },
  {
   "cell_type": "code",
   "execution_count": 262,
   "metadata": {},
   "outputs": [],
   "source": [
    "#read weather data \n",
    "#merge city weather data with cuisines data by city\n",
    "\n",
    "lv_weather = pd.read_csv(\"WeatherData/LVMonthly2019.csv\").drop('Unnamed: 0', axis = 1)\n",
    "lv_temps = lv_weather['Average Temperature (F)']\n",
    "lv_temps = lv_temps.to_frame()"
   ]
  },
  {
   "cell_type": "code",
   "execution_count": 263,
   "metadata": {},
   "outputs": [
    {
     "data": {
      "text/html": [
       "<div>\n",
       "<style scoped>\n",
       "    .dataframe tbody tr th:only-of-type {\n",
       "        vertical-align: middle;\n",
       "    }\n",
       "\n",
       "    .dataframe tbody tr th {\n",
       "        vertical-align: top;\n",
       "    }\n",
       "\n",
       "    .dataframe thead th {\n",
       "        text-align: right;\n",
       "    }\n",
       "</style>\n",
       "<table border=\"1\" class=\"dataframe\">\n",
       "  <thead>\n",
       "    <tr style=\"text-align: right;\">\n",
       "      <th></th>\n",
       "      <th>months</th>\n",
       "      <th>Japanese_Check-Ins</th>\n",
       "      <th>Thai_Check-Ins</th>\n",
       "      <th>American_Check-Ins</th>\n",
       "      <th>Average Temperature (F)</th>\n",
       "    </tr>\n",
       "  </thead>\n",
       "  <tbody>\n",
       "    <tr>\n",
       "      <td>0</td>\n",
       "      <td>jan</td>\n",
       "      <td>886</td>\n",
       "      <td>273</td>\n",
       "      <td>728</td>\n",
       "      <td>50.36</td>\n",
       "    </tr>\n",
       "    <tr>\n",
       "      <td>1</td>\n",
       "      <td>feb</td>\n",
       "      <td>742</td>\n",
       "      <td>239</td>\n",
       "      <td>755</td>\n",
       "      <td>47.66</td>\n",
       "    </tr>\n",
       "    <tr>\n",
       "      <td>2</td>\n",
       "      <td>mar</td>\n",
       "      <td>840</td>\n",
       "      <td>308</td>\n",
       "      <td>890</td>\n",
       "      <td>60.08</td>\n",
       "    </tr>\n",
       "    <tr>\n",
       "      <td>3</td>\n",
       "      <td>april</td>\n",
       "      <td>850</td>\n",
       "      <td>314</td>\n",
       "      <td>836</td>\n",
       "      <td>71.06</td>\n",
       "    </tr>\n",
       "    <tr>\n",
       "      <td>4</td>\n",
       "      <td>may</td>\n",
       "      <td>866</td>\n",
       "      <td>495</td>\n",
       "      <td>1113</td>\n",
       "      <td>71.24</td>\n",
       "    </tr>\n",
       "    <tr>\n",
       "      <td>5</td>\n",
       "      <td>june</td>\n",
       "      <td>843</td>\n",
       "      <td>422</td>\n",
       "      <td>905</td>\n",
       "      <td>87.80</td>\n",
       "    </tr>\n",
       "    <tr>\n",
       "      <td>6</td>\n",
       "      <td>july</td>\n",
       "      <td>951</td>\n",
       "      <td>413</td>\n",
       "      <td>979</td>\n",
       "      <td>94.10</td>\n",
       "    </tr>\n",
       "    <tr>\n",
       "      <td>7</td>\n",
       "      <td>aug</td>\n",
       "      <td>848</td>\n",
       "      <td>404</td>\n",
       "      <td>990</td>\n",
       "      <td>94.28</td>\n",
       "    </tr>\n",
       "    <tr>\n",
       "      <td>8</td>\n",
       "      <td>sep</td>\n",
       "      <td>623</td>\n",
       "      <td>359</td>\n",
       "      <td>838</td>\n",
       "      <td>83.66</td>\n",
       "    </tr>\n",
       "    <tr>\n",
       "      <td>9</td>\n",
       "      <td>oct</td>\n",
       "      <td>574</td>\n",
       "      <td>297</td>\n",
       "      <td>691</td>\n",
       "      <td>66.56</td>\n",
       "    </tr>\n",
       "    <tr>\n",
       "      <td>10</td>\n",
       "      <td>nov</td>\n",
       "      <td>608</td>\n",
       "      <td>269</td>\n",
       "      <td>861</td>\n",
       "      <td>58.46</td>\n",
       "    </tr>\n",
       "    <tr>\n",
       "      <td>11</td>\n",
       "      <td>dec</td>\n",
       "      <td>286</td>\n",
       "      <td>154</td>\n",
       "      <td>307</td>\n",
       "      <td>48.74</td>\n",
       "    </tr>\n",
       "  </tbody>\n",
       "</table>\n",
       "</div>"
      ],
      "text/plain": [
       "   months  Japanese_Check-Ins  Thai_Check-Ins  American_Check-Ins  \\\n",
       "0     jan                 886             273                 728   \n",
       "1     feb                 742             239                 755   \n",
       "2     mar                 840             308                 890   \n",
       "3   april                 850             314                 836   \n",
       "4     may                 866             495                1113   \n",
       "5    june                 843             422                 905   \n",
       "6    july                 951             413                 979   \n",
       "7     aug                 848             404                 990   \n",
       "8     sep                 623             359                 838   \n",
       "9     oct                 574             297                 691   \n",
       "10    nov                 608             269                 861   \n",
       "11    dec                 286             154                 307   \n",
       "\n",
       "    Average Temperature (F)  \n",
       "0                     50.36  \n",
       "1                     47.66  \n",
       "2                     60.08  \n",
       "3                     71.06  \n",
       "4                     71.24  \n",
       "5                     87.80  \n",
       "6                     94.10  \n",
       "7                     94.28  \n",
       "8                     83.66  \n",
       "9                     66.56  \n",
       "10                    58.46  \n",
       "11                    48.74  "
      ]
     },
     "execution_count": 263,
     "metadata": {},
     "output_type": "execute_result"
    }
   ],
   "source": [
    "#merge city weather data with cuisines data by city\n",
    "lv_merge_df = pd.concat([LV_df, lv_temps], axis = 1)\n",
    "lv_merge_df"
   ]
  },
  {
   "cell_type": "code",
   "execution_count": 264,
   "metadata": {},
   "outputs": [
    {
     "name": "stdout",
     "output_type": "stream",
     "text": [
      "True\n"
     ]
    },
    {
     "data": {
      "image/png": "[encoded data removed]",
      "text/plain": [
       "<Figure size 504x432 with 1 Axes>"
      ]
     },
     "metadata": {
      "needs_background": "light"
     },
     "output_type": "display_data"
    }
   ],
   "source": [
    "# #df = pd.DataFrame(np.random.randn(100, 6), columns=['a', 'b', 'c', 'd', 'e', 'f'])\n",
    "\n",
    "fig, ax1 = plt.subplots(figsize=(7,6))\n",
    "ax1 = lv_merge_df.plot(kind='scatter',x='Average Temperature (F)', y='Japanese_Check-Ins', color='r',ax=ax1)   \n",
    "ax2 = lv_merge_df.plot(kind='scatter',x='Average Temperature (F)', y='Thai_Check-Ins', color='g',ax = ax1) \n",
    "ax3 = lv_merge_df.plot(kind='scatter', x='Average Temperature (F)', y='American_Check-Ins', color='b',ax = ax1) \n",
    "ax1.set_xlabel('Average Temperature (f)')\n",
    "ax1.set_ylabel('Category Check-Ins')\n",
    "ax1.set_title('Las Vegas Average Temp(f) vs Category check-ins')\n",
    "\n",
    "# True\n",
    "print(ax1 == ax2 == ax3)                      "
   ]
  },
  {
   "cell_type": "code",
   "execution_count": 265,
   "metadata": {},
   "outputs": [
    {
     "data": {
      "image/png": "[encoded data removed]",
      "text/plain": [
       "<Figure size 432x288 with 1 Axes>"
      ]
     },
     "metadata": {
      "needs_background": "light"
     },
     "output_type": "display_data"
    },
    {
     "name": "stdout",
     "output_type": "stream",
     "text": [
      "R-square is :0.2\n",
      "p-value is :0.14\n"
     ]
    }
   ],
   "source": [
    "#ploting a scatter plot with linear regression\n",
    "x_values = lv_merge_df['Average Temperature (F)']\n",
    "y_values = lv_merge_df['Japanese_Check-Ins']\n",
    "(slope, intercept, rvalue, pvalue, stderr) = linregress(x_values, y_values)\n",
    "rex_values = x_values * slope + intercept\n",
    "line_eq = \"y = \" + str(slope) + \"x + \" + str(intercept)\n",
    "plt.scatter(x_values,y_values)\n",
    "plt.plot(x_values,rex_values,\"r-\")\n",
    "#plt.annotate(line_eq,(10,10),fontsize=20,color=\"red\")\n",
    "plt.xlabel('Average Temperature (F)')\n",
    "plt.ylabel('Japenese_Check-Ins')\n",
    "plt.title('LV Ave Tem Vs Japanese check-in')\n",
    "plt.show()\n",
    "print(f\"R-square is :{round(rvalue**2,2)}\")\n",
    "print(f\"p-value is :{round(pvalue, 2)}\")\n"
   ]
  },
  {
   "cell_type": "code",
   "execution_count": 266,
   "metadata": {},
   "outputs": [
    {
     "data": {
      "image/png": "[encoded data removed]",
      "text/plain": [
       "<Figure size 432x288 with 1 Axes>"
      ]
     },
     "metadata": {
      "needs_background": "light"
     },
     "output_type": "display_data"
    },
    {
     "name": "stdout",
     "output_type": "stream",
     "text": [
      "R-square is : 0.62\n",
      "p-value is : 0.0\n"
     ]
    }
   ],
   "source": [
    "#ploting a scatter plot with linear regression\n",
    "x_values = lv_merge_df['Average Temperature (F)']\n",
    "y_values = lv_merge_df['Thai_Check-Ins']\n",
    "(slope, intercept, rvalue, pvalue, stderr) = linregress(x_values, y_values)\n",
    "rex_values = x_values * slope + intercept\n",
    "line_eq = \"y = \" + str(slope) + \"x + \" + str(intercept)\n",
    "plt.scatter(x_values,y_values)\n",
    "plt.plot(x_values,rex_values,\"r-\")\n",
    "#plt.annotate(line_eq,(10,10),fontsize=20,color=\"red\")\n",
    "plt.xlabel('Average Temperature (F)')\n",
    "plt.ylabel('Thai_Check-Ins')\n",
    "plt.title('LV Ave Tem Vs Thai_Check-Ins')\n",
    "plt.show()\n",
    "print(f\"R-square is : {round(rvalue**2,2)}\")\n",
    "print(f\"p-value is : {round(pvalue, 2)}\")\n"
   ]
  },
  {
   "cell_type": "code",
   "execution_count": 267,
   "metadata": {},
   "outputs": [
    {
     "data": {
      "image/png": "[encoded data removed]",
      "text/plain": [
       "<Figure size 432x288 with 1 Axes>"
      ]
     },
     "metadata": {
      "needs_background": "light"
     },
     "output_type": "display_data"
    },
    {
     "name": "stdout",
     "output_type": "stream",
     "text": [
      "R-square is 0.38\n",
      "p-value is 0.03\n"
     ]
    }
   ],
   "source": [
    "#ploting a scatter plot with linear regression\n",
    "x_values = lv_merge_df['Average Temperature (F)']\n",
    "y_values = lv_merge_df['American_Check-Ins']\n",
    "(slope, intercept, rvalue, pvalue, stderr) = linregress(x_values, y_values)\n",
    "rex_values = x_values * slope + intercept\n",
    "line_eq = \"y = \" + str(slope) + \"x + \" + str(intercept)\n",
    "plt.scatter(x_values,y_values)\n",
    "plt.plot(x_values,rex_values,\"r-\")\n",
    "#plt.annotate(line_eq,(10,10),fontsize=20,color=\"red\")\n",
    "plt.xlabel('Average Temperature (F)')\n",
    "plt.ylabel('American_Check-Ins')\n",
    "plt.title('LV Ave Tem Vs American_Check-Ins')\n",
    "plt.show()\n",
    "print(f\"R-square is {round(rvalue**2,2)}\")\n",
    "print(f\"p-value is {round(pvalue, 2)}\")\n"
   ]
  },
  {
   "cell_type": "code",
   "execution_count": 268,
   "metadata": {},
   "outputs": [],
   "source": [
    "#Read weather data for Charlotte\n",
    "Charlotte_weather = pd.read_csv(\"WeatherData/CHMonthly2019.csv\").drop('Unnamed: 0', axis = 1)\n",
    "Charlotte_temps = Charlotte_weather['Average Temperature (F)']\n",
    "Charlotte_temps = Charlotte_temps.to_frame()"
   ]
  },
  {
   "cell_type": "code",
   "execution_count": 269,
   "metadata": {},
   "outputs": [
    {
     "data": {
      "text/html": [
       "<div>\n",
       "<style scoped>\n",
       "    .dataframe tbody tr th:only-of-type {\n",
       "        vertical-align: middle;\n",
       "    }\n",
       "\n",
       "    .dataframe tbody tr th {\n",
       "        vertical-align: top;\n",
       "    }\n",
       "\n",
       "    .dataframe thead th {\n",
       "        text-align: right;\n",
       "    }\n",
       "</style>\n",
       "<table border=\"1\" class=\"dataframe\">\n",
       "  <thead>\n",
       "    <tr style=\"text-align: right;\">\n",
       "      <th></th>\n",
       "      <th>months</th>\n",
       "      <th>Japanese_Check-Ins</th>\n",
       "      <th>Thai_Check-Ins</th>\n",
       "      <th>American_Check-Ins</th>\n",
       "      <th>Average Temperature (F)</th>\n",
       "    </tr>\n",
       "  </thead>\n",
       "  <tbody>\n",
       "    <tr>\n",
       "      <td>0</td>\n",
       "      <td>jan</td>\n",
       "      <td>18</td>\n",
       "      <td>17</td>\n",
       "      <td>54</td>\n",
       "      <td>43.88</td>\n",
       "    </tr>\n",
       "    <tr>\n",
       "      <td>1</td>\n",
       "      <td>feb</td>\n",
       "      <td>13</td>\n",
       "      <td>26</td>\n",
       "      <td>42</td>\n",
       "      <td>50.18</td>\n",
       "    </tr>\n",
       "    <tr>\n",
       "      <td>2</td>\n",
       "      <td>mar</td>\n",
       "      <td>17</td>\n",
       "      <td>27</td>\n",
       "      <td>61</td>\n",
       "      <td>50.72</td>\n",
       "    </tr>\n",
       "    <tr>\n",
       "      <td>3</td>\n",
       "      <td>april</td>\n",
       "      <td>12</td>\n",
       "      <td>21</td>\n",
       "      <td>30</td>\n",
       "      <td>63.14</td>\n",
       "    </tr>\n",
       "    <tr>\n",
       "      <td>4</td>\n",
       "      <td>may</td>\n",
       "      <td>10</td>\n",
       "      <td>35</td>\n",
       "      <td>44</td>\n",
       "      <td>74.30</td>\n",
       "    </tr>\n",
       "    <tr>\n",
       "      <td>5</td>\n",
       "      <td>june</td>\n",
       "      <td>20</td>\n",
       "      <td>23</td>\n",
       "      <td>53</td>\n",
       "      <td>76.64</td>\n",
       "    </tr>\n",
       "    <tr>\n",
       "      <td>6</td>\n",
       "      <td>july</td>\n",
       "      <td>20</td>\n",
       "      <td>21</td>\n",
       "      <td>112</td>\n",
       "      <td>81.50</td>\n",
       "    </tr>\n",
       "    <tr>\n",
       "      <td>7</td>\n",
       "      <td>aug</td>\n",
       "      <td>24</td>\n",
       "      <td>19</td>\n",
       "      <td>94</td>\n",
       "      <td>79.34</td>\n",
       "    </tr>\n",
       "    <tr>\n",
       "      <td>8</td>\n",
       "      <td>sep</td>\n",
       "      <td>24</td>\n",
       "      <td>12</td>\n",
       "      <td>46</td>\n",
       "      <td>78.62</td>\n",
       "    </tr>\n",
       "    <tr>\n",
       "      <td>9</td>\n",
       "      <td>oct</td>\n",
       "      <td>35</td>\n",
       "      <td>4</td>\n",
       "      <td>38</td>\n",
       "      <td>67.10</td>\n",
       "    </tr>\n",
       "    <tr>\n",
       "      <td>10</td>\n",
       "      <td>nov</td>\n",
       "      <td>26</td>\n",
       "      <td>16</td>\n",
       "      <td>62</td>\n",
       "      <td>48.56</td>\n",
       "    </tr>\n",
       "    <tr>\n",
       "      <td>11</td>\n",
       "      <td>dec</td>\n",
       "      <td>7</td>\n",
       "      <td>4</td>\n",
       "      <td>14</td>\n",
       "      <td>47.48</td>\n",
       "    </tr>\n",
       "  </tbody>\n",
       "</table>\n",
       "</div>"
      ],
      "text/plain": [
       "   months  Japanese_Check-Ins  Thai_Check-Ins  American_Check-Ins  \\\n",
       "0     jan                  18              17                  54   \n",
       "1     feb                  13              26                  42   \n",
       "2     mar                  17              27                  61   \n",
       "3   april                  12              21                  30   \n",
       "4     may                  10              35                  44   \n",
       "5    june                  20              23                  53   \n",
       "6    july                  20              21                 112   \n",
       "7     aug                  24              19                  94   \n",
       "8     sep                  24              12                  46   \n",
       "9     oct                  35               4                  38   \n",
       "10    nov                  26              16                  62   \n",
       "11    dec                   7               4                  14   \n",
       "\n",
       "    Average Temperature (F)  \n",
       "0                     43.88  \n",
       "1                     50.18  \n",
       "2                     50.72  \n",
       "3                     63.14  \n",
       "4                     74.30  \n",
       "5                     76.64  \n",
       "6                     81.50  \n",
       "7                     79.34  \n",
       "8                     78.62  \n",
       "9                     67.10  \n",
       "10                    48.56  \n",
       "11                    47.48  "
      ]
     },
     "execution_count": 269,
     "metadata": {},
     "output_type": "execute_result"
    }
   ],
   "source": [
    "#merge city weather data with cuisines data by city\n",
    "Charlotte_merge_df = pd.concat([Charlotte_df, Charlotte_temps], axis = 1)\n",
    "Charlotte_merge_df"
   ]
  },
  {
   "cell_type": "markdown",
   "metadata": {},
   "source": [
    "# Average Temperature VS Charlotte cuisines check-in"
   ]
  },
  {
   "cell_type": "code",
   "execution_count": 270,
   "metadata": {},
   "outputs": [
    {
     "name": "stdout",
     "output_type": "stream",
     "text": [
      "True\n"
     ]
    },
    {
     "data": {
      "image/png": "[encoded data removed]",
      "text/plain": [
       "<Figure size 504x432 with 1 Axes>"
      ]
     },
     "metadata": {
      "needs_background": "light"
     },
     "output_type": "display_data"
    }
   ],
   "source": [
    "# #df = pd.DataFrame(np.random.randn(100, 6), columns=['a', 'b', 'c', 'd', 'e', 'f'])\n",
    "\n",
    "fig, ax1 = plt.subplots(figsize=(7,6))\n",
    "ax1 = Charlotte_merge_df.plot(kind='scatter',x='Average Temperature (F)', y='Japanese_Check-Ins', color='r',ax=ax1)   \n",
    "ax2 = Charlotte_merge_df.plot(kind='scatter',x='Average Temperature (F)', y='Thai_Check-Ins', color='g',ax = ax1) \n",
    "ax3 = Charlotte_merge_df.plot(kind='scatter', x='Average Temperature (F)', y='American_Check-Ins', color='b',ax = ax1) \n",
    "ax1.set_xlabel('Average Temperature (f)')\n",
    "ax1.set_ylabel('Category Check-Ins')\n",
    "ax1.set_title('Charlotte Average Temp(f) vs Category check-ins')\n",
    "\n",
    "# True\n",
    "print(ax1 == ax2 == ax3)                      "
   ]
  },
  {
   "cell_type": "code",
   "execution_count": 271,
   "metadata": {},
   "outputs": [
    {
     "data": {
      "image/png": "[encoded data removed]",
      "text/plain": [
       "<Figure size 432x288 with 1 Axes>"
      ]
     },
     "metadata": {
      "needs_background": "light"
     },
     "output_type": "display_data"
    },
    {
     "name": "stdout",
     "output_type": "stream",
     "text": [
      "R-square is : 0.08\n",
      "p-value is : 0.36\n"
     ]
    }
   ],
   "source": [
    "#ploting a scatter plot with linear regression\n",
    "x_values = Charlotte_merge_df['Average Temperature (F)']\n",
    "y_values =Charlotte_merge_df['Japanese_Check-Ins']\n",
    "(slope, intercept, rvalue, pvalue, stderr) = linregress(x_values, y_values)\n",
    "rex_values = x_values * slope + intercept\n",
    "line_eq = \"y = \" + str(slope) + \"x + \" + str(intercept)\n",
    "plt.scatter(x_values,y_values)\n",
    "plt.plot(x_values,rex_values,\"r-\")\n",
    "#plt.annotate(line_eq,(10,10),fontsize=20,color=\"red\")\n",
    "plt.xlabel('Average Temperature (F)')\n",
    "plt.ylabel('Japenese_Check-Ins')\n",
    "plt.title('Charlotte Ave Tem Vs Japanese check-in')\n",
    "plt.show()\n",
    "print(f\"R-square is : {round(rvalue**2,2)}\")\n",
    "print(f\"p-value is : {round(pvalue, 2)}\")\n"
   ]
  },
  {
   "cell_type": "code",
   "execution_count": 272,
   "metadata": {},
   "outputs": [
    {
     "data": {
      "image/png": "[encoded data removed]",
      "text/plain": [
       "<Figure size 432x288 with 1 Axes>"
      ]
     },
     "metadata": {
      "needs_background": "light"
     },
     "output_type": "display_data"
    },
    {
     "name": "stdout",
     "output_type": "stream",
     "text": [
      "R-square is 0.03\n",
      "p-value is 0.62\n"
     ]
    }
   ],
   "source": [
    "#ploting a scatter plot with linear regression\n",
    "x_values = Charlotte_merge_df['Average Temperature (F)']\n",
    "y_values = Charlotte_merge_df['Thai_Check-Ins']\n",
    "(slope, intercept, rvalue, pvalue, stderr) = linregress(x_values, y_values)\n",
    "rex_values = x_values * slope + intercept\n",
    "line_eq = \"y = \" + str(slope) + \"x + \" + str(intercept)\n",
    "plt.scatter(x_values,y_values)\n",
    "plt.plot(x_values,rex_values,\"r-\")\n",
    "#plt.annotate(line_eq,(10,10),fontsize=20,color=\"red\")\n",
    "plt.xlabel('Average Temperature (F)')\n",
    "plt.ylabel('Thai_Check-Ins')\n",
    "plt.title('Charlotte Ave Tem Vs Thai_Check-Ins')\n",
    "plt.show()\n",
    "print(f\"R-square is {round(rvalue**2,2)}\")\n",
    "print(f\"p-value is {round(pvalue, 2)}\")\n"
   ]
  },
  {
   "cell_type": "code",
   "execution_count": 273,
   "metadata": {},
   "outputs": [
    {
     "data": {
      "image/png": "[encoded data removed]",
      "text/plain": [
       "<Figure size 432x288 with 1 Axes>"
      ]
     },
     "metadata": {
      "needs_background": "light"
     },
     "output_type": "display_data"
    },
    {
     "name": "stdout",
     "output_type": "stream",
     "text": [
      "R-square is :0.22\n",
      "p-value is :0.13\n"
     ]
    }
   ],
   "source": [
    "#ploting a scatter plot with linear regression\n",
    "x_values = Charlotte_merge_df['Average Temperature (F)']\n",
    "y_values = Charlotte_merge_df['American_Check-Ins']\n",
    "(slope, intercept, rvalue, pvalue, stderr) = linregress(x_values, y_values)\n",
    "rex_values = x_values * slope + intercept\n",
    "line_eq = \"y = \" + str(slope) + \"x + \" + str(intercept)\n",
    "plt.scatter(x_values,y_values)\n",
    "plt.plot(x_values,rex_values,\"r-\")\n",
    "#plt.annotate(line_eq,(10,10),fontsize=20,color=\"red\")\n",
    "plt.xlabel('Average Temperature (F)')\n",
    "plt.ylabel('American_Check-Ins')\n",
    "plt.title('Charlotte Ave Tem Vs American_Check-Ins')\n",
    "plt.show()\n",
    "print(f\"R-square is :{round(rvalue**2,2)}\")\n",
    "print(f\"p-value is :{round(pvalue, 2)}\")\n"
   ]
  },
  {
   "cell_type": "markdown",
   "metadata": {},
   "source": [
    "# Toronto DataFrame"
   ]
  },
  {
   "cell_type": "code",
   "execution_count": 274,
   "metadata": {},
   "outputs": [],
   "source": [
    "#read weather data for Toronto\n",
    "Toronto_weather = pd.read_csv(\"WeatherData/TNMonthly2019.csv\").drop('Unnamed: 0', axis = 1)\n",
    "Toronto_temps = Toronto_weather['Average Temperature (F)']\n",
    "Toronto_temps = Toronto_temps.to_frame()"
   ]
  },
  {
   "cell_type": "code",
   "execution_count": 275,
   "metadata": {},
   "outputs": [
    {
     "data": {
      "text/html": [
       "<div>\n",
       "<style scoped>\n",
       "    .dataframe tbody tr th:only-of-type {\n",
       "        vertical-align: middle;\n",
       "    }\n",
       "\n",
       "    .dataframe tbody tr th {\n",
       "        vertical-align: top;\n",
       "    }\n",
       "\n",
       "    .dataframe thead th {\n",
       "        text-align: right;\n",
       "    }\n",
       "</style>\n",
       "<table border=\"1\" class=\"dataframe\">\n",
       "  <thead>\n",
       "    <tr style=\"text-align: right;\">\n",
       "      <th></th>\n",
       "      <th>months</th>\n",
       "      <th>Japanese_Check-Ins</th>\n",
       "      <th>Thai_Check-Ins</th>\n",
       "      <th>American_Check-Ins</th>\n",
       "      <th>Average Temperature (F)</th>\n",
       "    </tr>\n",
       "  </thead>\n",
       "  <tbody>\n",
       "    <tr>\n",
       "      <td>0</td>\n",
       "      <td>jan</td>\n",
       "      <td>18</td>\n",
       "      <td>17</td>\n",
       "      <td>54</td>\n",
       "      <td>43.88</td>\n",
       "    </tr>\n",
       "    <tr>\n",
       "      <td>1</td>\n",
       "      <td>feb</td>\n",
       "      <td>13</td>\n",
       "      <td>26</td>\n",
       "      <td>42</td>\n",
       "      <td>50.18</td>\n",
       "    </tr>\n",
       "    <tr>\n",
       "      <td>2</td>\n",
       "      <td>mar</td>\n",
       "      <td>17</td>\n",
       "      <td>27</td>\n",
       "      <td>61</td>\n",
       "      <td>50.72</td>\n",
       "    </tr>\n",
       "    <tr>\n",
       "      <td>3</td>\n",
       "      <td>april</td>\n",
       "      <td>12</td>\n",
       "      <td>21</td>\n",
       "      <td>30</td>\n",
       "      <td>63.14</td>\n",
       "    </tr>\n",
       "    <tr>\n",
       "      <td>4</td>\n",
       "      <td>may</td>\n",
       "      <td>10</td>\n",
       "      <td>35</td>\n",
       "      <td>44</td>\n",
       "      <td>74.30</td>\n",
       "    </tr>\n",
       "    <tr>\n",
       "      <td>5</td>\n",
       "      <td>june</td>\n",
       "      <td>20</td>\n",
       "      <td>23</td>\n",
       "      <td>53</td>\n",
       "      <td>76.64</td>\n",
       "    </tr>\n",
       "    <tr>\n",
       "      <td>6</td>\n",
       "      <td>july</td>\n",
       "      <td>20</td>\n",
       "      <td>21</td>\n",
       "      <td>112</td>\n",
       "      <td>81.50</td>\n",
       "    </tr>\n",
       "    <tr>\n",
       "      <td>7</td>\n",
       "      <td>aug</td>\n",
       "      <td>24</td>\n",
       "      <td>19</td>\n",
       "      <td>94</td>\n",
       "      <td>79.34</td>\n",
       "    </tr>\n",
       "    <tr>\n",
       "      <td>8</td>\n",
       "      <td>sep</td>\n",
       "      <td>24</td>\n",
       "      <td>12</td>\n",
       "      <td>46</td>\n",
       "      <td>78.62</td>\n",
       "    </tr>\n",
       "    <tr>\n",
       "      <td>9</td>\n",
       "      <td>oct</td>\n",
       "      <td>35</td>\n",
       "      <td>4</td>\n",
       "      <td>38</td>\n",
       "      <td>67.10</td>\n",
       "    </tr>\n",
       "    <tr>\n",
       "      <td>10</td>\n",
       "      <td>nov</td>\n",
       "      <td>26</td>\n",
       "      <td>16</td>\n",
       "      <td>62</td>\n",
       "      <td>48.56</td>\n",
       "    </tr>\n",
       "    <tr>\n",
       "      <td>11</td>\n",
       "      <td>dec</td>\n",
       "      <td>7</td>\n",
       "      <td>4</td>\n",
       "      <td>14</td>\n",
       "      <td>47.48</td>\n",
       "    </tr>\n",
       "  </tbody>\n",
       "</table>\n",
       "</div>"
      ],
      "text/plain": [
       "   months  Japanese_Check-Ins  Thai_Check-Ins  American_Check-Ins  \\\n",
       "0     jan                  18              17                  54   \n",
       "1     feb                  13              26                  42   \n",
       "2     mar                  17              27                  61   \n",
       "3   april                  12              21                  30   \n",
       "4     may                  10              35                  44   \n",
       "5    june                  20              23                  53   \n",
       "6    july                  20              21                 112   \n",
       "7     aug                  24              19                  94   \n",
       "8     sep                  24              12                  46   \n",
       "9     oct                  35               4                  38   \n",
       "10    nov                  26              16                  62   \n",
       "11    dec                   7               4                  14   \n",
       "\n",
       "    Average Temperature (F)  \n",
       "0                     43.88  \n",
       "1                     50.18  \n",
       "2                     50.72  \n",
       "3                     63.14  \n",
       "4                     74.30  \n",
       "5                     76.64  \n",
       "6                     81.50  \n",
       "7                     79.34  \n",
       "8                     78.62  \n",
       "9                     67.10  \n",
       "10                    48.56  \n",
       "11                    47.48  "
      ]
     },
     "execution_count": 275,
     "metadata": {},
     "output_type": "execute_result"
    }
   ],
   "source": [
    "#merge city weather data with cuisines data by city\n",
    "Toronto_merge_df = pd.concat([Toronto_df, Toronto_temps], axis = 1)\n",
    "Charlotte_merge_df"
   ]
  },
  {
   "cell_type": "markdown",
   "metadata": {},
   "source": [
    "# Average Temperature VS Toronto cuisines check-in"
   ]
  },
  {
   "cell_type": "code",
   "execution_count": 276,
   "metadata": {},
   "outputs": [
    {
     "name": "stdout",
     "output_type": "stream",
     "text": [
      "True\n"
     ]
    },
    {
     "data": {
      "image/png": "[encoded data removed]",
      "text/plain": [
       "<Figure size 504x432 with 1 Axes>"
      ]
     },
     "metadata": {
      "needs_background": "light"
     },
     "output_type": "display_data"
    }
   ],
   "source": [
    "# #df = pd.DataFrame(np.random.randn(100, 6), columns=['a', 'b', 'c', 'd', 'e', 'f'])\n",
    "\n",
    "fig, ax1 = plt.subplots(figsize=(7,6))\n",
    "ax1 = Toronto_merge_df.plot(kind='scatter',x='Average Temperature (F)', y='Japanese_Check-Ins', color='r',ax=ax1)   \n",
    "ax2 = Toronto_merge_df.plot(kind='scatter',x='Average Temperature (F)', y='Thai_Check-Ins', color='g',ax = ax1) \n",
    "#ax3 = Charlotte_merge_df.plot(kind='scatter', x='Average Temperature (F)', y='American_Check-Ins', color='b',ax = ax1) \n",
    "ax1.set_xlabel('Average Temperature (f)')\n",
    "ax1.set_ylabel('Category Check-Ins')\n",
    "ax1.set_title('Toronto Average Temp(f) vs Category check-ins')\n",
    "\n",
    "# True\n",
    "print(ax1 == ax2)                      "
   ]
  },
  {
   "cell_type": "code",
   "execution_count": 277,
   "metadata": {},
   "outputs": [
    {
     "data": {
      "image/png": "[encoded data removed]",
      "text/plain": [
       "<Figure size 432x288 with 1 Axes>"
      ]
     },
     "metadata": {
      "needs_background": "light"
     },
     "output_type": "display_data"
    },
    {
     "name": "stdout",
     "output_type": "stream",
     "text": [
      "R-square is : 0.53\n",
      "p-value is : 0.01\n"
     ]
    }
   ],
   "source": [
    "#ploting a scatter plot with linear regression\n",
    "x_values = Toronto_merge_df['Average Temperature (F)']\n",
    "y_values =Toronto_merge_df['Japanese_Check-Ins']\n",
    "(slope, intercept, rvalue, pvalue, stderr) = linregress(x_values, y_values)\n",
    "rex_values = x_values * slope + intercept\n",
    "line_eq = \"y = \" + str(slope) + \"x + \" + str(intercept)\n",
    "plt.scatter(x_values,y_values)\n",
    "plt.plot(x_values,rex_values,\"r-\")\n",
    "#plt.annotate(line_eq,(10,10),fontsize=20,color=\"red\")\n",
    "plt.xlabel('Average Temperature (F)')\n",
    "plt.ylabel('Japenese_Check-Ins')\n",
    "plt.title('Toronto Ave Tem Vs Japanese check-in')\n",
    "plt.show()\n",
    "print(f\"R-square is : {round(rvalue**2,2)}\")\n",
    "print(f\"p-value is : {round(pvalue, 2)}\")\n"
   ]
  },
  {
   "cell_type": "code",
   "execution_count": 278,
   "metadata": {},
   "outputs": [
    {
     "data": {
      "image/png": "[encoded data removed]",
      "text/plain": [
       "<Figure size 432x288 with 1 Axes>"
      ]
     },
     "metadata": {
      "needs_background": "light"
     },
     "output_type": "display_data"
    },
    {
     "name": "stdout",
     "output_type": "stream",
     "text": [
      "R-square is :0.2\n",
      "p-value is :0.15\n"
     ]
    }
   ],
   "source": [
    "#ploting a scatter plot with linear regression\n",
    "x_values = Toronto_merge_df['Average Temperature (F)']\n",
    "y_values = Toronto_merge_df['Thai_Check-Ins']\n",
    "(slope, intercept, rvalue, pvalue, stderr) = linregress(x_values, y_values)\n",
    "rex_values = x_values * slope + intercept\n",
    "line_eq = \"y = \" + str(slope) + \"x + \" + str(intercept)\n",
    "plt.scatter(x_values,y_values)\n",
    "plt.plot(x_values,rex_values,\"r-\")\n",
    "#plt.annotate(line_eq,(10,10),fontsize=20,color=\"red\")\n",
    "plt.xlabel('Average Temperature (F)')\n",
    "plt.ylabel('Thai_Check-Ins')\n",
    "plt.title('Toronto Ave Tem Vs Thai_Check-Ins')\n",
    "plt.show()\n",
    "print(f\"R-square is :{round(rvalue**2,2)}\")\n",
    "print(f\"p-value is :{round(pvalue, 2)}\")"
   ]
  },
  {
   "cell_type": "markdown",
   "metadata": {},
   "source": [
    "# Measure of Central Tendency Statistical Analysis"
   ]
  },
  {
   "cell_type": "code",
   "execution_count": 311,
   "metadata": {},
   "outputs": [
    {
     "name": "stdout",
     "output_type": "stream",
     "text": [
      " The average number of check-ins for Las Vegas Restauarants is 629.0\n",
      " The average number of check-ins for Charlotte Restauarants is 29.67\n",
      " The average number of check-ins for Toronto Restauarants is 71.0\n"
     ]
    }
   ],
   "source": [
    "#the mean check in for 3 restuarant check ins in each sity \n",
    "\n",
    "mean_checkin_LV = LV_df.iloc[0, 1:5].mean()\n",
    "mean_checkin_CH = Charlotte_df.iloc[0, 1:5].mean()\n",
    "mean_checkin_TN = Toronto_df.iloc[0,1:5].mean()\n",
    "\n",
    "print(f' The average number of check-ins for Las Vegas Restauarants is {round(mean_checkin_LV, 2)}')\n",
    "print(f' The average number of check-ins for Charlotte Restauarants is {round(mean_checkin_CH,2)}')\n",
    "print(f' The average number of check-ins for Toronto Restauarants is {round(mean_checkin_TN,2)}')\n"
   ]
  },
  {
   "cell_type": "code",
   "execution_count": null,
   "metadata": {},
   "outputs": [],
   "source": [
    "#make a Dataframe for the TOtal number of Checking "
   ]
  },
  {
   "cell_type": "code",
   "execution_count": 299,
   "metadata": {},
   "outputs": [],
   "source": []
  },
  {
   "cell_type": "code",
   "execution_count": null,
   "metadata": {},
   "outputs": [],
   "source": []
  }
 ],
 "metadata": {
  "kernelspec": {
   "display_name": "Python 3",
   "language": "python",
   "name": "python3"
  },
  "language_info": {
   "codemirror_mode": {
    "name": "ipython",
    "version": 3
   },
   "file_extension": ".py",
   "mimetype": "text/x-python",
   "name": "python",
   "nbconvert_exporter": "python",
   "pygments_lexer": "ipython3",
   "version": "3.7.4"
  }
 },
 "nbformat": 4,
 "nbformat_minor": 2
}
